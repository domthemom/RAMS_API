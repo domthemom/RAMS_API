{
 "cells": [
  {
   "cell_type": "code",
   "execution_count": null,
   "metadata": {
    "collapsed": true
   },
   "outputs": [],
   "source": [
    "\"\"\"\n",
    "RAMS query program\n",
    "\n",
    "Created on Wed Jul 5 11:49:17 2017\n",
    "\n",
    "@author: Tingting Huang\n",
    "\n",
    "thuang1@iastate.edu\n",
    "\n",
    "\"\"\""
   ]
  },
  {
   "cell_type": "code",
   "execution_count": null,
   "metadata": {
    "collapsed": true
   },
   "outputs": [],
   "source": [
    "# use your own directory and filename\n",
    "\n",
    "# Must use column name: Latitude, Longitude, routeId (in LRS format, e.g. \"S001910235E\" for I-235 EB)\n",
    "\n",
    "\n",
    "dirpath = 'C:/Users/thuang1/Desktop/REST API/Weather/'\n",
    "filename = 'sensors.csv'\n",
    "\n"
   ]
  },
  {
   "cell_type": "code",
   "execution_count": null,
   "metadata": {
    "collapsed": false
   },
   "outputs": [],
   "source": [
    "import pandas as pd\n",
    "import numpy as np\n",
    "import json\n",
    "import requests\n",
    "from datetime import datetime"
   ]
  },
  {
   "cell_type": "code",
   "execution_count": null,
   "metadata": {
    "collapsed": true
   },
   "outputs": [],
   "source": [
    "def get_locations(df):\n",
    "    d = []\n",
    "    for i in xrange(len(df)):\n",
    "        x = {'geometry':{'y':df.iloc[i]['Latitude'], 'x':df.iloc[i]['Longitude']}, 'routeId':df.iloc[i]['routeId']}\n",
    "        d.append(x)\n",
    "\n",
    "    locations = json.dumps(d, ensure_ascii=False)\n",
    "\n",
    "    return locations"
   ]
  },
  {
   "cell_type": "code",
   "execution_count": null,
   "metadata": {
    "collapsed": true
   },
   "outputs": [],
   "source": [
    "def get_measure(locations, tolerance):\n",
    "       \n",
    "\n",
    "    url = 'https://gis.iowadot.gov/ramsa/rest/services/lrs/MapServer/exts/LRSServer/networkLayers/0/geometryToMeasure?'\n",
    "    data = {'f':'json','locations': locations,'tolerance':str(tolerance),'inSR':'4326'}\n",
    "    response = requests.post(url, data=data)\n",
    "    r=response.json()\n",
    "\n",
    "    # extract results\n",
    "    dat=[]\n",
    "    for i in r['locations']:\n",
    "        dat.append(i['results'][0]['measure'])\n",
    "    dat=np.asarray(dat)\n",
    "    \n",
    "    return dat"
   ]
  },
  {
   "cell_type": "code",
   "execution_count": null,
   "metadata": {
    "collapsed": false
   },
   "outputs": [],
   "source": [
    "# load your data\n",
    "df = pd.read_csv(dirpath+filename)\n",
    "\n",
    "n=500\n",
    "\n",
    "ans=[]\n",
    "for i in xrange(len(df)/n+1):\n",
    "    ans.append(df[i*n:i*n+n])"
   ]
  },
  {
   "cell_type": "code",
   "execution_count": null,
   "metadata": {
    "collapsed": false
   },
   "outputs": [],
   "source": [
    "# Main\n",
    "now1=datetime.now()\n",
    "\n",
    "final=[]\n",
    "i=0\n",
    "\n",
    "for a in ans:\n",
    "    i=i+1\n",
    "    locations = get_locations(a)\n",
    "    \n",
    "    dat = get_measure(locations, 50)\n",
    "        \n",
    "    a['MM']=dat\n",
    "    \n",
    "    final.append(a)\n",
    "    \n",
    "    print('Success! Progress: '+str(round(float(i)/len(ans)*100,2))+\"%\")\n",
    "\n",
    "final=pd.concat(final,axis=0).reset_index(drop=True)\n",
    "\n",
    "now2=datetime.now()\n",
    "\n",
    "print('Runtime: '+str(now2-now1))"
   ]
  },
  {
   "cell_type": "code",
   "execution_count": null,
   "metadata": {
    "collapsed": true
   },
   "outputs": [],
   "source": [
    "# save to new file\n",
    "final.to_csv(dirpath+'MM_Found_'+filename, header=True, index=False)"
   ]
  },
  {
   "cell_type": "code",
   "execution_count": null,
   "metadata": {
    "collapsed": true
   },
   "outputs": [],
   "source": []
  }
 ],
 "metadata": {
  "anaconda-cloud": {},
  "kernelspec": {
   "display_name": "Python [conda root]",
   "language": "python",
   "name": "conda-root-py"
  },
  "language_info": {
   "codemirror_mode": {
    "name": "ipython",
    "version": 2
   },
   "file_extension": ".py",
   "mimetype": "text/x-python",
   "name": "python",
   "nbconvert_exporter": "python",
   "pygments_lexer": "ipython2",
   "version": "2.7.12"
  }
 },
 "nbformat": 4,
 "nbformat_minor": 1
}
