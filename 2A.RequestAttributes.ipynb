{
 "cells": [
  {
   "cell_type": "code",
   "execution_count": null,
   "metadata": {
    "collapsed": true
   },
   "outputs": [],
   "source": [
    "\"\"\"\n",
    "RAMS query program\n",
    "\n",
    "Created on Wed Jul 5 11:49:17 2017\n",
    "\n",
    "@author: Tingting Huang\n",
    "\n",
    "thuang1@iastate.edu\n",
    "\n",
    "\"\"\""
   ]
  },
  {
   "cell_type": "markdown",
   "metadata": {},
   "source": [
    "# Step 1"
   ]
  },
  {
   "cell_type": "markdown",
   "metadata": {},
   "source": [
    "Use your own directory and filename\n",
    "\n",
    "Must have column name: routeId, MM\n"
   ]
  },
  {
   "cell_type": "code",
   "execution_count": null,
   "metadata": {
    "collapsed": true
   },
   "outputs": [],
   "source": [
    "dirpath = 'C:/Users/thuang1/Desktop/REST API/Weather/'\n",
    "filename = 'MM_Found_sensors.csv'"
   ]
  },
  {
   "cell_type": "markdown",
   "metadata": {},
   "source": [
    "# Step 2"
   ]
  },
  {
   "cell_type": "markdown",
   "metadata": {},
   "source": [
    "a. Input your attributes of interest.\n",
    "\n",
    "go to https://gis.iowadot.gov/ramsa/rest/services/lrs/MapServer to check layerId and field names"
   ]
  },
  {
   "cell_type": "code",
   "execution_count": null,
   "metadata": {
    "collapsed": true
   },
   "outputs": [],
   "source": [
    "layerId = 78\n",
    "\n",
    "fields = ['SPEED_LIMIT']"
   ]
  },
  {
   "cell_type": "markdown",
   "metadata": {},
   "source": [
    "b. Load Functions"
   ]
  },
  {
   "cell_type": "code",
   "execution_count": null,
   "metadata": {
    "collapsed": true
   },
   "outputs": [],
   "source": [
    "def get_locations(df):\n",
    "    d = []\n",
    "    for i in xrange(len(df)):\n",
    "        x = {\"routeId\":df.iloc[i]['routeId'],\"measure\":df.iloc[i]['MM']}\n",
    "        d.append(x)\n",
    "    locations = json.dumps(d, ensure_ascii=False)\n",
    "    \n",
    "    return locations"
   ]
  },
  {
   "cell_type": "code",
   "execution_count": null,
   "metadata": {
    "collapsed": false
   },
   "outputs": [],
   "source": [
    "def get_attributes(df):\n",
    "    \n",
    "    \n",
    "    locations=get_locations(df)\n",
    "    \n",
    "    url = 'https://gis.iowadot.gov/ramsa/rest/services/lrs/MapServer/exts/LRSServer/networkLayers/0/queryAttributeSet?'\n",
    "    data = {'f':'json','locations': locations,'attributeSet':attributes, 'outSR':'4326'}\n",
    "    response = requests.post(url, data=data)\n",
    "    r=response.json()\n",
    "\n",
    "    try:\n",
    "        e=r['error']\n",
    "        print('Error in get attributes!')\n",
    "    except:\n",
    "        pass\n",
    "\n",
    "    resall=[]\n",
    "    datall=[]\n",
    "    for i in r['features']:\n",
    "        res=[i['attributes']['route_id'], i['attributes']['measure']]\n",
    "        for j in fields:\n",
    "            res.extend([i['attributes'][str(j)]])\n",
    "        resall.append(res)\n",
    "    datall=np.array(resall)\n",
    "\n",
    "    cols = ['route_id','measure']\n",
    "    cols.extend(fields)\n",
    "    df2=pd.DataFrame(datall, columns=cols)\n",
    "    \n",
    "    x=df2.duplicated()\n",
    "    \n",
    "    if sum(x)>0:\n",
    "        print ('Duplicated records found!')\n",
    "    \n",
    "    df2.measure=pd.to_numeric(df2.measure)\n",
    "    \n",
    "    df3 = pd.merge(df,df2, how='left', left_on=['routeId','MM'], right_on=['route_id','measure'])\n",
    "    \n",
    "    return df3"
   ]
  },
  {
   "cell_type": "markdown",
   "metadata": {},
   "source": [
    "c. Use n to slice your data into chunks with n rows in each one.\n",
    "\n",
    "The API only returns at most 1500 responses, thus, 0<=n<=1500"
   ]
  },
  {
   "cell_type": "code",
   "execution_count": null,
   "metadata": {
    "collapsed": false
   },
   "outputs": [],
   "source": [
    "import pandas as pd\n",
    "import numpy as np\n",
    "import json\n",
    "import requests\n",
    "\n",
    "# load your data\n",
    "\n",
    "df = pd.read_csv(dirpath+filename)\n",
    "\n",
    "n=1000\n",
    "\n",
    "ans=[]\n",
    "for i in xrange(len(df)/n+1):\n",
    "    ans.append(df[i*n:i*n+n])\n",
    "    \n",
    "# create attribute array\n",
    "attr = [{\"layerId\":layerId,\"fields\":fields}]\n",
    "attributes = json.dumps(attr, ensure_ascii=False)\n"
   ]
  },
  {
   "cell_type": "markdown",
   "metadata": {},
   "source": [
    "d. Main function"
   ]
  },
  {
   "cell_type": "code",
   "execution_count": null,
   "metadata": {
    "collapsed": false
   },
   "outputs": [],
   "source": [
    "from datetime import datetime\n",
    "now1=datetime.now()\n",
    "\n",
    "final=[]\n",
    "i=0\n",
    "for a in ans:\n",
    "    final.append(get_attributes(a))\n",
    "    \n",
    "    i=i+1\n",
    "    print('Success! Progress: '+str(round(float(i)/len(ans)*100,2))+\"%\")\n",
    "final=pd.concat(final,axis=0).reset_index(drop=True)\n",
    "\n",
    "now2=datetime.now()\n",
    "print('Runtime: '+str(now2-now1))"
   ]
  },
  {
   "cell_type": "markdown",
   "metadata": {},
   "source": [
    "e. Save the results"
   ]
  },
  {
   "cell_type": "code",
   "execution_count": null,
   "metadata": {
    "collapsed": true
   },
   "outputs": [],
   "source": [
    "final.to_csv(dirpath+'Speed_Limit_Found_'+filename, header=True, index=False)"
   ]
  }
 ],
 "metadata": {
  "anaconda-cloud": {},
  "kernelspec": {
   "display_name": "Python [default]",
   "language": "python",
   "name": "python2"
  },
  "language_info": {
   "codemirror_mode": {
    "name": "ipython",
    "version": 2
   },
   "file_extension": ".py",
   "mimetype": "text/x-python",
   "name": "python",
   "nbconvert_exporter": "python",
   "pygments_lexer": "ipython2",
   "version": "2.7.12"
  }
 },
 "nbformat": 4,
 "nbformat_minor": 2
}
