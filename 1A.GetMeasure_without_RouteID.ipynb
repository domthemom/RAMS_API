{
 "cells": [
  {
   "cell_type": "markdown",
   "metadata": {},
   "source": [
    "# Step 1"
   ]
  },
  {
   "cell_type": "markdown",
   "metadata": {},
   "source": [
    "Use your own directory and filename\n",
    "\n",
    "Must have column names: Latitude, Longitude"
   ]
  },
  {
   "cell_type": "code",
   "execution_count": 1,
   "metadata": {
    "collapsed": true
   },
   "outputs": [],
   "source": [
    "\n",
    "import pandas as pd\n",
    "import numpy as np\n",
    "import json\n",
    "import requests\n",
    "from math import radians, sqrt, sin, cos, atan2\n",
    "\n",
    "dirpath = 'C:/Users/thuang1/Desktop/REST API/'\n",
    "filename = 'XD_End.csv'\n",
    "\n"
   ]
  },
  {
   "cell_type": "markdown",
   "metadata": {},
   "source": [
    "# Step 2\n",
    "\n",
    "a. Functions"
   ]
  },
  {
   "cell_type": "code",
   "execution_count": 2,
   "metadata": {
    "collapsed": false
   },
   "outputs": [],
   "source": [
    "def geocalc(lat1, lon1, lat2, lon2):\n",
    "    lat1 = radians(lat1)\n",
    "    lon1 = radians(lon1)\n",
    "    lat2 = radians(lat2)\n",
    "    lon2 = radians(lon2)\n",
    "\n",
    "    dlon = lon1 - lon2\n",
    "\n",
    "    EARTH_R = 6372.8\n",
    "\n",
    "    y = sqrt(\n",
    "        (cos(lat2) * sin(dlon)) ** 2\n",
    "        + (cos(lat1) * sin(lat2) - sin(lat1) * cos(lat2) * cos(dlon)) ** 2\n",
    "        )\n",
    "    x = sin(lat1) * sin(lat2) + cos(lat1) * cos(lat2) * cos(dlon)\n",
    "    c = atan2(y, x)\n",
    "    return EARTH_R * c"
   ]
  },
  {
   "cell_type": "code",
   "execution_count": 3,
   "metadata": {
    "collapsed": false
   },
   "outputs": [],
   "source": [
    "def get_MM(d, dat):\n",
    "    route_des = pd.DataFrame({'route_desc':['S','C','M','P','I'], 'route_desc_order':[1,2,3,4,5]})\n",
    "            \n",
    "    xlong = d['geometry']['x']\n",
    "    xlati = d['geometry']['y']\n",
    "    \n",
    "    df2 = pd.DataFrame(dat, columns=['routeId','MM','long','lati'])\n",
    "    df2['route_desc']=df2.routeId.str[0]\n",
    "    df2['sys_code']=df2.routeId.str[5]\n",
    "    df2['route_no']=df2.routeId.str[7:10]\n",
    "    df2['is_ramp'] = 1\n",
    "    df2.loc[pd.isnull(df2.routeId.str[11]),'is_ramp'] = 0\n",
    "    df2 = df2.join(route_des.set_index(['route_desc']), on=['route_desc'])\n",
    "    df2['exception']=1\n",
    "    df2.loc[(df2['sys_code']=='1') & (df2['route_no']=='080'),'exception']=0\n",
    "    df2['dist']=df2.apply(lambda x: geocalc(float(x['lati']),float(x['long']),xlati,xlong), axis=1)\n",
    "    df2 = df2.sort_values(by=['is_ramp','exception','route_desc_order','sys_code','route_no','dist']).reset_index(drop=True)\n",
    "    routeId = df2.loc[0,'routeId']\n",
    "    MM = df2.loc[0,'MM']\n",
    "    return np.array([routeId, MM])"
   ]
  },
  {
   "cell_type": "code",
   "execution_count": 4,
   "metadata": {
    "collapsed": true
   },
   "outputs": [],
   "source": [
    "def get_locations(df):\n",
    "    d = []\n",
    "    for i in xrange(len(df)):\n",
    "        x = {'geometry':{'y':df.iloc[i]['Latitude'], 'x':df.iloc[i]['Longitude']}}\n",
    "        d.append(x)\n",
    "\n",
    "    locations = json.dumps(d, ensure_ascii=False)\n",
    "    return d, locations"
   ]
  },
  {
   "cell_type": "code",
   "execution_count": 5,
   "metadata": {
    "collapsed": true
   },
   "outputs": [],
   "source": [
    "def get_measure(locations, tolerance):\n",
    "       \n",
    "\n",
    "    url = 'https://gis.iowadot.gov/ramsa/rest/services/lrs/MapServer/exts/LRSServer/networkLayers/0/geometryToMeasure?'\n",
    "    data = {'f':'json','locations': locations,'tolerance':str(tolerance),'inSR':'4326'}\n",
    "    response = requests.post(url, data=data)\n",
    "    r=response.json()\n",
    "\n",
    "        \n",
    "        \n",
    "    # extract results\n",
    "    resall=[]\n",
    "    for i in r['locations']:\n",
    "        res=[]\n",
    "        if i['status']==u'esriLocatingCannotFindLocation':\n",
    "            routeid=\"0\"\n",
    "            measure=0\n",
    "            x=0\n",
    "            y=0\n",
    "            res.append([routeid, measure, x, y])\n",
    "        else:\n",
    "\n",
    "            for j in i['results']:\n",
    "                routeid=j['routeId'].encode('ascii','ignore')\n",
    "                measure=j['measure']\n",
    "                x=j['geometry']['x']\n",
    "                y=j['geometry']['y']\n",
    "                res.append([routeid, measure, x, y])\n",
    "        resall.append(res)\n",
    "    \n",
    "    \n",
    "\n",
    "    datall=[]\n",
    "    dat=[]\n",
    "\n",
    "    for i in xrange(len(resall)):\n",
    "\n",
    "        if resall[i][0][0]=='0':\n",
    "            dat = ['0', 0]\n",
    "        else:\n",
    "            dat = get_MM(d[i], resall[i])\n",
    "        datall.append(dat)\n",
    "\n",
    "    datall=np.array(datall)\n",
    "    \n",
    "    return datall"
   ]
  },
  {
   "cell_type": "markdown",
   "metadata": {},
   "source": [
    "b. Use n to slice your data into chunks with n rows in each one.\n",
    "\n",
    "The API only returns at most 1500 responses, thus, 0<=n<=1500"
   ]
  },
  {
   "cell_type": "code",
   "execution_count": 7,
   "metadata": {
    "collapsed": false
   },
   "outputs": [],
   "source": [
    "# load your data\n",
    "df = pd.read_csv(dirpath+filename)\n",
    "\n",
    "n=500\n",
    "\n",
    "ans=[]\n",
    "for i in xrange(len(df)/n+1):\n",
    "    ans.append(df[i*n:i*n+n])\n",
    "    \n"
   ]
  },
  {
   "cell_type": "markdown",
   "metadata": {},
   "source": [
    "c. Main function"
   ]
  },
  {
   "cell_type": "code",
   "execution_count": 8,
   "metadata": {
    "collapsed": false
   },
   "outputs": [
    {
     "name": "stderr",
     "output_type": "stream",
     "text": [
      "C:\\Users\\thuang1\\AppData\\Local\\Continuum\\Anaconda2\\lib\\site-packages\\ipykernel\\__main__.py:15: SettingWithCopyWarning: \n",
      "A value is trying to be set on a copy of a slice from a DataFrame.\n",
      "Try using .loc[row_indexer,col_indexer] = value instead\n",
      "\n",
      "See the caveats in the documentation: http://pandas.pydata.org/pandas-docs/stable/indexing.html#indexing-view-versus-copy\n",
      "C:\\Users\\thuang1\\AppData\\Local\\Continuum\\Anaconda2\\lib\\site-packages\\ipykernel\\__main__.py:16: SettingWithCopyWarning: \n",
      "A value is trying to be set on a copy of a slice from a DataFrame.\n",
      "Try using .loc[row_indexer,col_indexer] = value instead\n",
      "\n",
      "See the caveats in the documentation: http://pandas.pydata.org/pandas-docs/stable/indexing.html#indexing-view-versus-copy\n"
     ]
    },
    {
     "name": "stdout",
     "output_type": "stream",
     "text": [
      "Success! Progress: 5.88%\n",
      "Success! Progress: 11.76%\n",
      "Success! Progress: 17.65%\n",
      "Success! Progress: 23.53%\n",
      "Success! Progress: 29.41%\n",
      "Success! Progress: 35.29%\n",
      "Success! Progress: 41.18%\n",
      "Success! Progress: 47.06%\n",
      "Success! Progress: 52.94%\n",
      "Success! Progress: 58.82%\n",
      "Success! Progress: 64.71%\n",
      "Success! Progress: 70.59%\n",
      "Success! Progress: 76.47%\n",
      "Success! Progress: 82.35%\n",
      "Success! Progress: 88.24%\n",
      "Success! Progress: 94.12%\n",
      "Success! Progress: 100.0%\n",
      "Runtime: 0:09:42.680000\n"
     ]
    }
   ],
   "source": [
    "# Main\n",
    "\n",
    "from datetime import datetime\n",
    "now1=datetime.now()\n",
    "\n",
    "final=[]\n",
    "i=0\n",
    "\n",
    "for a in ans:\n",
    "    i=i+1\n",
    "    d, locations = get_locations(a)\n",
    "    \n",
    "    datall = get_measure(locations, 50)\n",
    "        \n",
    "    a['routeId']=datall[:,0]\n",
    "    a['MM']=datall[:,1]\n",
    "    \n",
    "    final.append(a)\n",
    "    \n",
    "    print('Success! Progress: '+str(round(float(i)/len(ans)*100,2))+\"%\")\n",
    "\n",
    "final=pd.concat(final,axis=0).reset_index(drop=True)\n",
    "\n",
    "now2=datetime.now()\n",
    "\n",
    "print('Runtime: '+str(now2-now1))"
   ]
  },
  {
   "cell_type": "markdown",
   "metadata": {},
   "source": [
    "d. Save the results"
   ]
  },
  {
   "cell_type": "code",
   "execution_count": 9,
   "metadata": {
    "collapsed": false
   },
   "outputs": [],
   "source": [
    "# save new file\n",
    "\n",
    "final.to_csv(dirpath+'MM_Found_'+filename, header=True, index=False)"
   ]
  },
  {
   "cell_type": "code",
   "execution_count": null,
   "metadata": {
    "collapsed": true
   },
   "outputs": [],
   "source": []
  }
 ],
 "metadata": {
  "anaconda-cloud": {},
  "kernelspec": {
   "display_name": "Python [conda root]",
   "language": "python",
   "name": "conda-root-py"
  },
  "language_info": {
   "codemirror_mode": {
    "name": "ipython",
    "version": 2
   },
   "file_extension": ".py",
   "mimetype": "text/x-python",
   "name": "python",
   "nbconvert_exporter": "python",
   "pygments_lexer": "ipython2",
   "version": "2.7.12"
  }
 },
 "nbformat": 4,
 "nbformat_minor": 1
}
